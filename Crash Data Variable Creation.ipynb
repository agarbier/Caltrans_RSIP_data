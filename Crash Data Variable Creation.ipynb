{
 "cells": [
  {
   "cell_type": "code",
   "execution_count": 108,
   "id": "93cbdd12-2f58-4cde-82ce-a638400a0b4b",
   "metadata": {},
   "outputs": [],
   "source": [
    "import pandas as pd\n",
    "import geopandas as gpd\n",
    "import glob\n",
    "import math\n",
    "import numpy as np\n",
    "import warnings \n",
    "warnings.filterwarnings('ignore')"
   ]
  },
  {
   "cell_type": "code",
   "execution_count": 109,
   "id": "01a7a2b1-7e88-4777-b870-2f86c0acfe84",
   "metadata": {},
   "outputs": [],
   "source": [
    "# created fields should be in lower case to separate from Caltrans\n",
    "# could apply addition framework\n",
    "# propose deleting any intermediate variables (e.g., party_sev_PARTY)"
   ]
  },
  {
   "cell_type": "markdown",
   "id": "95a9c926-37a9-4673-8be9-dcb216f8d039",
   "metadata": {},
   "source": [
    "#### Isolate Appropriate Crashes\n",
    "Crashes occuring between January 1st 2020 and December 31st 2024"
   ]
  },
  {
   "cell_type": "code",
   "execution_count": 110,
   "id": "0880d5b7-bdd4-4393-b5c8-9c0088dccc83",
   "metadata": {},
   "outputs": [],
   "source": [
    "# for testing\n",
    "df_crash = pd.read_excel(r\"\\\\kittelson.com\\fs\\H_Projects\\27\\27381 - Caltrans District Plans\\Task 3 Methodology\\Data\\data\\TSN_Data\\Crash_Data\\CA AX 2022 v6.26.2023.xlsx\", nrows = 100)"
   ]
  },
  {
   "cell_type": "code",
   "execution_count": null,
   "id": "9e2bc3fc-604c-46ce-bb0b-9cfd98e99089",
   "metadata": {},
   "outputs": [],
   "source": []
  },
  {
   "cell_type": "markdown",
   "id": "61322475-eb62-47e7-aeb9-e5a3183d0214",
   "metadata": {},
   "source": [
    "#### Crash Severity by Party\n",
    "Assign severity for each party. Pre-step for assigning crash party."
   ]
  },
  {
   "cell_type": "code",
   "execution_count": 111,
   "id": "d997c39e-634e-4b13-bf37-8ed9d5034972",
   "metadata": {},
   "outputs": [],
   "source": [
    "# Function to apply logis to each party to calculate severity\n",
    "def party_sev(party_type, crash_severity, major_injury, minor_injury, possible_injury, injury_code, occupants_killed, occupants_injured):\n",
    "    if type(party_type) != str:\n",
    "        party_sev = 99\n",
    "    elif (injury_code == 'K') | (occupants_killed > 0):\n",
    "        party_sev = 1\n",
    "    elif (major_injury > 0):\n",
    "        party_sev = 2\n",
    "    elif (minor_injury > 0):\n",
    "        party_sev = 3\n",
    "    elif (possible_injury > 0):\n",
    "        party_sev = 4\n",
    "    elif (occupants_injured > 0): # crashes that report occupand injured but none by other variables (small number of issues)\n",
    "        if crash_severity in [1,2]:\n",
    "            party_sev = 2\n",
    "        elif crash_severity in [3,4]:\n",
    "            party_sev = crash_severity\n",
    "    else:\n",
    "        party_sev = 5 # Note I am using 5 instead of 0 to allow for calculating max severity on a continuous scale.\n",
    "    return party_sev"
   ]
  },
  {
   "cell_type": "code",
   "execution_count": 112,
   "id": "9fe1ec04-2dc0-446b-9fb9-8e235c84212c",
   "metadata": {},
   "outputs": [],
   "source": [
    "x = 1\n",
    "\n",
    "while x < 10:\n",
    "    party = str(x)\n",
    "\n",
    "    df_crash['party_sev_' +str(x)] = df_crash.apply(lambda row: party_sev(row['PARTY_TYPE_' + party], row['SEVERITY_LEVEL'], row['MAJOR_INJURY_' + party], \n",
    "                                                row['MINOR_INJURY_' + party], row['POSSIBLE_INJURY_' + party], row['INJURY_CODE_' + party], \n",
    "                                                row['OCCUPANTS_KILLED_' + party], row['OCCUPANTS_INJURED_' + party]), axis=1)\n",
    "    x = x + 1"
   ]
  },
  {
   "cell_type": "markdown",
   "id": "a2abf896-a17d-4958-a877-9330fd073210",
   "metadata": {},
   "source": [
    "#### Singular Crash Mode\n",
    "Crash mode based on most severely injured party and then if tie by agreed logic in methodology."
   ]
  },
  {
   "cell_type": "code",
   "execution_count": 113,
   "id": "b02a7729-3bed-4ab1-9e91-68b34e2a2959",
   "metadata": {},
   "outputs": [],
   "source": [
    "# Identify for each crash the maximum severity based on the party severity variables.\n",
    "df_crash['max_sev'] = df_crash[df_crash.columns[df_crash.columns.str[:-1] == \"party_sev_\"]].min(axis = 1)"
   ]
  },
  {
   "cell_type": "code",
   "execution_count": 114,
   "id": "1b1a770f-a59a-48e4-99d1-82459661a6f9",
   "metadata": {},
   "outputs": [],
   "source": [
    "def party_on_sev(row):\n",
    "    x = 1\n",
    "    parties = []\n",
    "    while x < 10:\n",
    "        if row['party_sev_' +str(x)] == row['max_sev']:\n",
    "            parties.append(str(row['PARTY_TYPE_' +str(x)]))\n",
    "\n",
    "        x = x + 1\n",
    "\n",
    "    party_det = 'other / unknown'\n",
    "\n",
    "    # Go through options from least to most dominant in logic such that if most dominant applied\n",
    "    for x in parties:\n",
    "        if x in ['A','B','D','E','F','G','2','3','4','5','6','H','I','J','K','M','Q']:\n",
    "            party_det = 'motorist'\n",
    "\n",
    "    for x in parties:\n",
    "        if x in ['C','R']:\n",
    "            party_det = 'motorcyclist'\n",
    "    \n",
    "    for x in parties:\n",
    "        if x in ['V']:\n",
    "            party_det = 'dismounted_pedestrian'\n",
    "            \n",
    "    for x in parties:\n",
    "        if x in ['L']:\n",
    "            party_det = 'bicyclist'\n",
    "\n",
    "    for x in parties:\n",
    "        if x in ['U']:\n",
    "            party_det = 'pedestrian'\n",
    "\n",
    "    return party_det"
   ]
  },
  {
   "cell_type": "code",
   "execution_count": 115,
   "id": "9665edec-ec19-4dc6-bf80-1dcf999438b8",
   "metadata": {},
   "outputs": [],
   "source": [
    "df_crash['crash_mode'] = df_crash.apply(party_on_sev, axis=1)"
   ]
  },
  {
   "cell_type": "markdown",
   "id": "6cfc7016-c0c8-47f3-8fa8-878d79931a8f",
   "metadata": {},
   "source": [
    "#### Crash Flags\n",
    "Binary variables to identify presence of party type in crash."
   ]
  },
  {
   "cell_type": "code",
   "execution_count": 116,
   "id": "6e0263e9-00e7-4cfa-9f12-c12a155c50f7",
   "metadata": {},
   "outputs": [],
   "source": [
    "party_fields = df_crash.columns[df_crash.columns.str[:-1] == \"PARTY_TYPE_\"]"
   ]
  },
  {
   "cell_type": "code",
   "execution_count": 117,
   "id": "d2d070e7-54dd-4f71-ae56-c68402a230dc",
   "metadata": {},
   "outputs": [],
   "source": [
    "def add_flags_mode(row):\n",
    "    ped = 0\n",
    "    bike = 0\n",
    "    dped = 0\n",
    "    mcycle = 0\n",
    "    truck = 0\n",
    "    animal = 0\n",
    "\n",
    "    for x in party_fields:\n",
    "        if row[x] in ['U']:\n",
    "            ped = 1\n",
    "        if row[x] in ['L']:\n",
    "            bike = 1\n",
    "        if row[x] in ['V']:\n",
    "            dped = 1\n",
    "        if row[x] in ['C','R']:\n",
    "            mcycle = 1\n",
    "        if str(row[x]) in ['F','G','2','3','4','5','6']:\n",
    "            truck = 1\n",
    "        if row[x] in ['W','X','Z']:\n",
    "            animal = 1\n",
    "\n",
    "    return ped, bike, dped, mcycle, truck, animal"
   ]
  },
  {
   "cell_type": "code",
   "execution_count": 118,
   "id": "32c7decc-d17e-4092-bc91-eb1dfa13409c",
   "metadata": {},
   "outputs": [],
   "source": [
    "output = df_crash.apply(add_flags_mode, axis=1)"
   ]
  },
  {
   "cell_type": "code",
   "execution_count": 119,
   "id": "f379d17a-c848-46cb-bafe-0db10f2f0080",
   "metadata": {},
   "outputs": [],
   "source": [
    "df_crash[['f_ped','f_bike','f_dped','f_mcycle','f_truck','f_animal']] = pd.DataFrame(output.tolist())"
   ]
  },
  {
   "cell_type": "code",
   "execution_count": 120,
   "id": "0d0e5d1a-921e-4c9f-a312-8fd3a39befcb",
   "metadata": {},
   "outputs": [
    {
     "data": {
      "text/html": [
       "<div>\n",
       "<style scoped>\n",
       "    .dataframe tbody tr th:only-of-type {\n",
       "        vertical-align: middle;\n",
       "    }\n",
       "\n",
       "    .dataframe tbody tr th {\n",
       "        vertical-align: top;\n",
       "    }\n",
       "\n",
       "    .dataframe thead th {\n",
       "        text-align: right;\n",
       "    }\n",
       "</style>\n",
       "<table border=\"1\" class=\"dataframe\">\n",
       "  <thead>\n",
       "    <tr style=\"text-align: right;\">\n",
       "      <th></th>\n",
       "      <th>D</th>\n",
       "      <th>C</th>\n",
       "      <th>R</th>\n",
       "      <th>R_SFX</th>\n",
       "      <th>PM_PFX</th>\n",
       "      <th>PM</th>\n",
       "      <th>PM_SFX</th>\n",
       "      <th>ACC_ID</th>\n",
       "      <th>ACC_PLACEMENT_ID</th>\n",
       "      <th>ACC_COLL_TYPE_CODE</th>\n",
       "      <th>...</th>\n",
       "      <th>party_sev_8</th>\n",
       "      <th>party_sev_9</th>\n",
       "      <th>max_sev</th>\n",
       "      <th>crash_mode</th>\n",
       "      <th>f_ped</th>\n",
       "      <th>f_bike</th>\n",
       "      <th>f_dped</th>\n",
       "      <th>f_mcycle</th>\n",
       "      <th>f_truck</th>\n",
       "      <th>f_animal</th>\n",
       "    </tr>\n",
       "  </thead>\n",
       "  <tbody>\n",
       "    <tr>\n",
       "      <th>0</th>\n",
       "      <td>12</td>\n",
       "      <td>ORA</td>\n",
       "      <td>1</td>\n",
       "      <td>NaN</td>\n",
       "      <td>R</td>\n",
       "      <td>0.180</td>\n",
       "      <td>NaN</td>\n",
       "      <td>5358438</td>\n",
       "      <td>2735672</td>\n",
       "      <td>C</td>\n",
       "      <td>...</td>\n",
       "      <td>99</td>\n",
       "      <td>99</td>\n",
       "      <td>4</td>\n",
       "      <td>motorist</td>\n",
       "      <td>0</td>\n",
       "      <td>0</td>\n",
       "      <td>0</td>\n",
       "      <td>0</td>\n",
       "      <td>0</td>\n",
       "      <td>0</td>\n",
       "    </tr>\n",
       "    <tr>\n",
       "      <th>1</th>\n",
       "      <td>12</td>\n",
       "      <td>ORA</td>\n",
       "      <td>1</td>\n",
       "      <td>NaN</td>\n",
       "      <td>R</td>\n",
       "      <td>0.204</td>\n",
       "      <td>NaN</td>\n",
       "      <td>5353056</td>\n",
       "      <td>233446</td>\n",
       "      <td>D</td>\n",
       "      <td>...</td>\n",
       "      <td>99</td>\n",
       "      <td>99</td>\n",
       "      <td>5</td>\n",
       "      <td>motorist</td>\n",
       "      <td>0</td>\n",
       "      <td>0</td>\n",
       "      <td>0</td>\n",
       "      <td>0</td>\n",
       "      <td>0</td>\n",
       "      <td>0</td>\n",
       "    </tr>\n",
       "    <tr>\n",
       "      <th>2</th>\n",
       "      <td>12</td>\n",
       "      <td>ORA</td>\n",
       "      <td>1</td>\n",
       "      <td>NaN</td>\n",
       "      <td>R</td>\n",
       "      <td>0.204</td>\n",
       "      <td>NaN</td>\n",
       "      <td>5443424</td>\n",
       "      <td>233446</td>\n",
       "      <td>D</td>\n",
       "      <td>...</td>\n",
       "      <td>99</td>\n",
       "      <td>99</td>\n",
       "      <td>5</td>\n",
       "      <td>motorist</td>\n",
       "      <td>0</td>\n",
       "      <td>0</td>\n",
       "      <td>0</td>\n",
       "      <td>0</td>\n",
       "      <td>0</td>\n",
       "      <td>0</td>\n",
       "    </tr>\n",
       "    <tr>\n",
       "      <th>3</th>\n",
       "      <td>12</td>\n",
       "      <td>ORA</td>\n",
       "      <td>1</td>\n",
       "      <td>NaN</td>\n",
       "      <td>R</td>\n",
       "      <td>0.280</td>\n",
       "      <td>NaN</td>\n",
       "      <td>5385364</td>\n",
       "      <td>327062</td>\n",
       "      <td>B</td>\n",
       "      <td>...</td>\n",
       "      <td>99</td>\n",
       "      <td>99</td>\n",
       "      <td>5</td>\n",
       "      <td>motorist</td>\n",
       "      <td>0</td>\n",
       "      <td>0</td>\n",
       "      <td>0</td>\n",
       "      <td>0</td>\n",
       "      <td>0</td>\n",
       "      <td>0</td>\n",
       "    </tr>\n",
       "    <tr>\n",
       "      <th>4</th>\n",
       "      <td>12</td>\n",
       "      <td>ORA</td>\n",
       "      <td>1</td>\n",
       "      <td>NaN</td>\n",
       "      <td>R</td>\n",
       "      <td>0.290</td>\n",
       "      <td>NaN</td>\n",
       "      <td>5402394</td>\n",
       "      <td>2402929</td>\n",
       "      <td>B</td>\n",
       "      <td>...</td>\n",
       "      <td>99</td>\n",
       "      <td>99</td>\n",
       "      <td>5</td>\n",
       "      <td>motorist</td>\n",
       "      <td>0</td>\n",
       "      <td>0</td>\n",
       "      <td>0</td>\n",
       "      <td>0</td>\n",
       "      <td>0</td>\n",
       "      <td>0</td>\n",
       "    </tr>\n",
       "  </tbody>\n",
       "</table>\n",
       "<p>5 rows × 305 columns</p>\n",
       "</div>"
      ],
      "text/plain": [
       "    D    C  R  R_SFX PM_PFX     PM  PM_SFX   ACC_ID  ACC_PLACEMENT_ID  \\\n",
       "0  12  ORA  1    NaN      R  0.180     NaN  5358438           2735672   \n",
       "1  12  ORA  1    NaN      R  0.204     NaN  5353056            233446   \n",
       "2  12  ORA  1    NaN      R  0.204     NaN  5443424            233446   \n",
       "3  12  ORA  1    NaN      R  0.280     NaN  5385364            327062   \n",
       "4  12  ORA  1    NaN      R  0.290     NaN  5402394           2402929   \n",
       "\n",
       "  ACC_COLL_TYPE_CODE  ... party_sev_8 party_sev_9 max_sev crash_mode f_ped  \\\n",
       "0                  C  ...          99          99       4   motorist     0   \n",
       "1                  D  ...          99          99       5   motorist     0   \n",
       "2                  D  ...          99          99       5   motorist     0   \n",
       "3                  B  ...          99          99       5   motorist     0   \n",
       "4                  B  ...          99          99       5   motorist     0   \n",
       "\n",
       "  f_bike  f_dped  f_mcycle  f_truck f_animal  \n",
       "0      0       0         0        0        0  \n",
       "1      0       0         0        0        0  \n",
       "2      0       0         0        0        0  \n",
       "3      0       0         0        0        0  \n",
       "4      0       0         0        0        0  \n",
       "\n",
       "[5 rows x 305 columns]"
      ]
     },
     "execution_count": 120,
     "metadata": {},
     "output_type": "execute_result"
    }
   ],
   "source": [
    "df_crash.head()"
   ]
  },
  {
   "cell_type": "markdown",
   "id": "684e28c6-45df-46f3-882f-74208b72dfc0",
   "metadata": {},
   "source": [
    "#### Location-Movement Crassified Field\n",
    "Methodology based on guidance from Safe Streets."
   ]
  },
  {
   "cell_type": "code",
   "execution_count": null,
   "id": "c90727cc-3388-49eb-835e-059fc9c00b46",
   "metadata": {},
   "outputs": [],
   "source": []
  },
  {
   "cell_type": "code",
   "execution_count": null,
   "id": "7d309a04-5b1b-460b-b5b2-5a2d6bfb93f6",
   "metadata": {},
   "outputs": [],
   "source": []
  },
  {
   "cell_type": "markdown",
   "id": "0e5b475f-0090-4c93-813f-2d42c6429e1c",
   "metadata": {},
   "source": [
    "#### Analysis Flag\n",
    "Flag field to identify if crash is for consideration by Kittelson / F&P or Safe Streets. \\\n",
    "Uses singular crash mode to create binary. To be combined with roadway data to group into one of four analyses."
   ]
  },
  {
   "cell_type": "code",
   "execution_count": null,
   "id": "5f15544d-b0ab-4b24-98cd-29c4f23872fe",
   "metadata": {},
   "outputs": [],
   "source": []
  },
  {
   "cell_type": "code",
   "execution_count": null,
   "id": "b3f14cd6-fb55-4926-8095-c639fc76a02e",
   "metadata": {},
   "outputs": [],
   "source": []
  },
  {
   "cell_type": "markdown",
   "id": "fe39973c-d5e1-44fa-b945-511db4bf388d",
   "metadata": {},
   "source": [
    "#### Caltrans Focus Crash Types\n",
    "Binary variables identifying if crash should be considered for risk ratio analysis of focus crash types."
   ]
  },
  {
   "cell_type": "code",
   "execution_count": null,
   "id": "e0c6d17e-ce8b-4bc8-be49-c99f31b7c7b1",
   "metadata": {},
   "outputs": [],
   "source": [
    "# Pedestrian Crash\n",
    "# Use pedestrian mode flag"
   ]
  },
  {
   "cell_type": "code",
   "execution_count": null,
   "id": "4470ec6f-656e-4aee-83f8-359330bb0349",
   "metadata": {},
   "outputs": [],
   "source": [
    "# Bicycle Crash\n",
    "# Use bicycle mode flag"
   ]
  },
  {
   "cell_type": "code",
   "execution_count": null,
   "id": "999e4115-5a08-459b-bb54-a64562637672",
   "metadata": {},
   "outputs": [],
   "source": [
    "# Impaired\n",
    "# Fields need to be confirmed with Caltrans\n",
    "# Use established logic"
   ]
  },
  {
   "cell_type": "code",
   "execution_count": null,
   "id": "0431cb42-9445-478e-a935-8536aca0d7ce",
   "metadata": {},
   "outputs": [],
   "source": [
    "# Aggressive Driving\n",
    "# Fields need to be confirmed with Caltrans\n",
    "# Use established logic"
   ]
  },
  {
   "cell_type": "code",
   "execution_count": null,
   "id": "25430ebf-04ff-449e-81de-1b810d323850",
   "metadata": {},
   "outputs": [],
   "source": [
    "# Lane Departure\n",
    "# Use established logic"
   ]
  },
  {
   "cell_type": "code",
   "execution_count": null,
   "id": "bca14824-9012-43b9-90eb-9890c3f18a3a",
   "metadata": {},
   "outputs": [],
   "source": [
    "# Intersections\n",
    "# Use field in data"
   ]
  }
 ],
 "metadata": {
  "kernelspec": {
   "display_name": "Python 3 (ipykernel)",
   "language": "python",
   "name": "python3"
  },
  "language_info": {
   "codemirror_mode": {
    "name": "ipython",
    "version": 3
   },
   "file_extension": ".py",
   "mimetype": "text/x-python",
   "name": "python",
   "nbconvert_exporter": "python",
   "pygments_lexer": "ipython3",
   "version": "3.12.0"
  }
 },
 "nbformat": 4,
 "nbformat_minor": 5
}
