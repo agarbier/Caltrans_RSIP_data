{
 "cells": [
  {
   "cell_type": "code",
   "execution_count": 1,
   "id": "3496aa53-2cb3-4df2-b108-8a5e93b3a2ad",
   "metadata": {},
   "outputs": [],
   "source": [
    "import pandas as pd\n",
    "import geopandas as gpd\n",
    "import osmnx as ox\n",
    "import fiona\n",
    "import h3pandas as h3\n",
    "import networkx as nx\n",
    "import numpy as np\n",
    "import warnings \n",
    "warnings.filterwarnings('ignore')"
   ]
  },
  {
   "cell_type": "code",
   "execution_count": 2,
   "id": "90466d77-a2d6-4130-9fbe-e57f01c3dbba",
   "metadata": {},
   "outputs": [],
   "source": [
    "# Network Files\n",
    "roads = gpd.read_file(r\"H:\\30\\30555 - Palo Alto Southern Rail Crossing Study\\GIS\\python_access\\Network_Development_workzone\\python_outputs\\draft_network_rds.shp\")\n",
    "nodes_r =gpd.read_file(r\"H:\\30\\30555 - Palo Alto Southern Rail Crossing Study\\GIS\\python_access\\Network_Development_workzone\\python_outputs\\draft_network_nodes.shp\")"
   ]
  },
  {
   "cell_type": "code",
   "execution_count": 4,
   "id": "a918b8b6-eb5f-4e22-832c-7e56a979f061",
   "metadata": {},
   "outputs": [],
   "source": [
    "roads = roads.set_index(['u','v','key'])\n",
    "nodes = nodes_r.set_index('osmid')"
   ]
  },
  {
   "cell_type": "code",
   "execution_count": 5,
   "id": "bbe47061-74c9-4e65-b8d0-a26444041edb",
   "metadata": {},
   "outputs": [],
   "source": [
    "G = ox.graph_from_gdfs(nodes, roads)\n",
    "G.remove_nodes_from(list(nx.isolates(G)))"
   ]
  },
  {
   "cell_type": "code",
   "execution_count": 7,
   "id": "7f509a5d-aae5-42c9-84da-2da362b36e49",
   "metadata": {},
   "outputs": [],
   "source": [
    "# Prior Code with the Start and end locations for GPS\n",
    "\n",
    "charleston = [37.414259, -122.118979, 'charl']\n",
    "meadow = [37.417171, -122.123659, 'mead']\n",
    "rail_cal = [37.429101, -122.142356,'call_under']\n",
    "rail_cal2 = [37.429870, -122.141825,'call_under']\n",
    "rail_sa = [37.406536, -122.106267,'san_under']\n",
    "\n",
    "locs = [rail_cal,charleston,meadow,rail_sa,rail_cal2]"
   ]
  },
  {
   "cell_type": "code",
   "execution_count": null,
   "id": "fe5239ca-dbe3-4020-953b-ca66cef12bbd",
   "metadata": {},
   "outputs": [],
   "source": [
    "# Add to locs the starting points for the new crossings for running access"
   ]
  },
  {
   "cell_type": "code",
   "execution_count": 8,
   "id": "ed5170b6-6b5f-4e47-b6c0-1f35621ef1ef",
   "metadata": {},
   "outputs": [],
   "source": [
    "# Set walking and biking speed\n",
    "walk_sp = 3 / 60 * 5\n",
    "bike_sp = 10 / 60 * 5"
   ]
  },
  {
   "cell_type": "code",
   "execution_count": 9,
   "id": "571fbb3e-e3de-4abb-ba83-44293b9ed580",
   "metadata": {},
   "outputs": [],
   "source": [
    "# Set testing distances\n",
    "dist_walk = [walk_sp, walk_sp*2, walk_sp*3]\n",
    "dist_bike = [bike_sp, bike_sp*2, bike_sp*3]"
   ]
  },
  {
   "cell_type": "code",
   "execution_count": 11,
   "id": "817a3cf2-e8e8-461e-b170-c701c4f5165d",
   "metadata": {},
   "outputs": [],
   "source": [
    "roads_record = pd.DataFrame()\n",
    "nodes_record = pd.DataFrame()\n",
    "\n",
    "for x in locs:\n",
    "    point = ox.distance.nearest_nodes(G, X = x[1] , Y = x[0])\n",
    "    name = x[2]\n",
    "\n",
    "    for y in dist_walk:\n",
    "        try:\n",
    "            distance = y * 1609\n",
    "            subgraph = nx.ego_graph(G, point, radius = distance, distance='length')\n",
    "            access_pts, access_rds = ox.graph_to_gdfs(subgraph)\n",
    "            access_pts['loc'] = x[2]\n",
    "            access_rds['loc'] = x[2]\n",
    "            access_pts['dist'] = y\n",
    "            access_rds['dist'] = y\n",
    "            access_pts['mode'] = 'walk'\n",
    "            access_rds['mode'] = 'walk'\n",
    "            access_rds['name'] = name\n",
    "            roads_record = pd.concat([roads_record,access_rds])\n",
    "            nodes_record = pd.concat([nodes_record,access_pts])\n",
    "        except:\n",
    "            continue\n",
    "\n",
    "for x in locs:\n",
    "    point = ox.distance.nearest_nodes(G, X = x[1] , Y = x[0])\n",
    "    name = x[2]\n",
    "\n",
    "    for y in dist_bike:\n",
    "        try:\n",
    "            distance = y * 1609\n",
    "            subgraph = nx.ego_graph(G, point, radius = distance, distance='palo_length')\n",
    "            access_pts, access_rds = ox.graph_to_gdfs(subgraph)\n",
    "            access_pts['loc'] = x[2]\n",
    "            access_rds['loc'] = x[2]\n",
    "            access_pts['dist'] = y\n",
    "            access_rds['dist'] = y\n",
    "            access_pts['mode'] = 'bike_palo'\n",
    "            access_rds['mode'] = 'bike_palo'\n",
    "            access_rds['name'] = name\n",
    "            roads_record = pd.concat([roads_record,access_rds])\n",
    "            nodes_record = pd.concat([nodes_record,access_pts])\n",
    "        except:\n",
    "            continue"
   ]
  },
  {
   "cell_type": "code",
   "execution_count": null,
   "id": "b9da906c-e619-4827-be47-faa059ac50ba",
   "metadata": {},
   "outputs": [],
   "source": [
    "# Resulting dataframe will have access from all points on either side of crossings\n",
    "# Write loop to turn on and off different segments from the new crossings\n",
    "# Loop will retain only shortest travel time segment.\n",
    "# Highlight segments with reduced travel time with new crossing"
   ]
  }
 ],
 "metadata": {
  "kernelspec": {
   "display_name": "Python 3 (ipykernel)",
   "language": "python",
   "name": "python3"
  },
  "language_info": {
   "codemirror_mode": {
    "name": "ipython",
    "version": 3
   },
   "file_extension": ".py",
   "mimetype": "text/x-python",
   "name": "python",
   "nbconvert_exporter": "python",
   "pygments_lexer": "ipython3",
   "version": "3.12.0"
  }
 },
 "nbformat": 4,
 "nbformat_minor": 5
}
